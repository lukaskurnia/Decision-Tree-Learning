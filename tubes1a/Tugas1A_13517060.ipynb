{
 "cells": [
  {
   "cell_type": "markdown",
   "metadata": {},
   "source": [
    "# Tugas besar Machine Learning 1A (IF 3270)"
   ]
  },
  {
   "cell_type": "markdown",
   "metadata": {},
   "source": [
    "## Anggota Kelompok:\n",
    "Lukas Kurnia Jonathan / 13517006\n",
    "\n",
    "Eginata Kasan / 13517030\n",
    "\n",
    "Vivianni / 13517060\n",
    "\n",
    "Rika Dewi / 13517147"
   ]
  },
  {
   "cell_type": "markdown",
   "metadata": {},
   "source": [
    "## Data Iris"
   ]
  },
  {
   "cell_type": "code",
   "execution_count": 1,
   "metadata": {},
   "outputs": [
    {
     "name": "stderr",
     "output_type": "stream",
     "text": [
      "/home/vivianni/.local/lib/python3.7/site-packages/sklearn/externals/six.py:31: FutureWarning: The module is deprecated in version 0.21 and will be removed in version 0.23 since we've dropped support for Python 2.7. Please rely on the official version of six (https://pypi.org/project/six/).\n",
      "  \"(https://pypi.org/project/six/).\", FutureWarning)\n"
     ]
    }
   ],
   "source": [
    "import pandas as pd\n",
    "\n",
    "from sklearn.datasets import load_iris\n",
    "from sklearn import tree\n",
    "\n",
    "from id3 import Id3Estimator\n",
    "from id3 import export_text\n",
    "from sklearn import preprocessing"
   ]
  },
  {
   "cell_type": "code",
   "execution_count": 2,
   "metadata": {},
   "outputs": [],
   "source": [
    "X,Y = load_iris(return_X_y=True) #load Iris File dari skcit\n",
    "iris = load_iris()"
   ]
  },
  {
   "cell_type": "code",
   "execution_count": 53,
   "metadata": {},
   "outputs": [],
   "source": [
    "dltIris = tree.DecisionTreeClassifier()\n",
    "dltIrisFitted = dltIris.fit(X,Y)\n",
    "r1 = tree.export_text(dltIrisFitted, feature_names=iris['feature_names'])"
   ]
  },
  {
   "cell_type": "code",
   "execution_count": 54,
   "metadata": {},
   "outputs": [
    {
     "name": "stdout",
     "output_type": "stream",
     "text": [
      "|--- petal length (cm) <= 2.45\n",
      "|   |--- class: 0\n",
      "|--- petal length (cm) >  2.45\n",
      "|   |--- petal width (cm) <= 1.75\n",
      "|   |   |--- petal length (cm) <= 4.95\n",
      "|   |   |   |--- petal width (cm) <= 1.65\n",
      "|   |   |   |   |--- class: 1\n",
      "|   |   |   |--- petal width (cm) >  1.65\n",
      "|   |   |   |   |--- class: 2\n",
      "|   |   |--- petal length (cm) >  4.95\n",
      "|   |   |   |--- petal width (cm) <= 1.55\n",
      "|   |   |   |   |--- class: 2\n",
      "|   |   |   |--- petal width (cm) >  1.55\n",
      "|   |   |   |   |--- petal length (cm) <= 5.45\n",
      "|   |   |   |   |   |--- class: 1\n",
      "|   |   |   |   |--- petal length (cm) >  5.45\n",
      "|   |   |   |   |   |--- class: 2\n",
      "|   |--- petal width (cm) >  1.75\n",
      "|   |   |--- petal length (cm) <= 4.85\n",
      "|   |   |   |--- sepal width (cm) <= 3.10\n",
      "|   |   |   |   |--- class: 2\n",
      "|   |   |   |--- sepal width (cm) >  3.10\n",
      "|   |   |   |   |--- class: 1\n",
      "|   |   |--- petal length (cm) >  4.85\n",
      "|   |   |   |--- class: 2\n",
      "\n"
     ]
    }
   ],
   "source": [
    "print(r1)"
   ]
  },
  {
   "cell_type": "code",
   "execution_count": 56,
   "metadata": {},
   "outputs": [
    {
     "data": {
      "text/plain": [
       "[Text(167.4, 199.32, 'X[2] <= 2.45\\ngini = 0.667\\nsamples = 150\\nvalue = [50, 50, 50]'),\n",
       " Text(141.64615384615385, 163.07999999999998, 'gini = 0.0\\nsamples = 50\\nvalue = [50, 0, 0]'),\n",
       " Text(193.15384615384616, 163.07999999999998, 'X[3] <= 1.75\\ngini = 0.5\\nsamples = 100\\nvalue = [0, 50, 50]'),\n",
       " Text(103.01538461538462, 126.83999999999999, 'X[2] <= 4.95\\ngini = 0.168\\nsamples = 54\\nvalue = [0, 49, 5]'),\n",
       " Text(51.50769230769231, 90.6, 'X[3] <= 1.65\\ngini = 0.041\\nsamples = 48\\nvalue = [0, 47, 1]'),\n",
       " Text(25.753846153846155, 54.359999999999985, 'gini = 0.0\\nsamples = 47\\nvalue = [0, 47, 0]'),\n",
       " Text(77.26153846153846, 54.359999999999985, 'gini = 0.0\\nsamples = 1\\nvalue = [0, 0, 1]'),\n",
       " Text(154.52307692307693, 90.6, 'X[3] <= 1.55\\ngini = 0.444\\nsamples = 6\\nvalue = [0, 2, 4]'),\n",
       " Text(128.76923076923077, 54.359999999999985, 'gini = 0.0\\nsamples = 3\\nvalue = [0, 0, 3]'),\n",
       " Text(180.27692307692308, 54.359999999999985, 'X[0] <= 6.95\\ngini = 0.444\\nsamples = 3\\nvalue = [0, 2, 1]'),\n",
       " Text(154.52307692307693, 18.119999999999976, 'gini = 0.0\\nsamples = 2\\nvalue = [0, 2, 0]'),\n",
       " Text(206.03076923076924, 18.119999999999976, 'gini = 0.0\\nsamples = 1\\nvalue = [0, 0, 1]'),\n",
       " Text(283.2923076923077, 126.83999999999999, 'X[2] <= 4.85\\ngini = 0.043\\nsamples = 46\\nvalue = [0, 1, 45]'),\n",
       " Text(257.53846153846155, 90.6, 'X[1] <= 3.1\\ngini = 0.444\\nsamples = 3\\nvalue = [0, 1, 2]'),\n",
       " Text(231.7846153846154, 54.359999999999985, 'gini = 0.0\\nsamples = 2\\nvalue = [0, 0, 2]'),\n",
       " Text(283.2923076923077, 54.359999999999985, 'gini = 0.0\\nsamples = 1\\nvalue = [0, 1, 0]'),\n",
       " Text(309.04615384615386, 90.6, 'gini = 0.0\\nsamples = 43\\nvalue = [0, 0, 43]')]"
      ]
     },
     "execution_count": 56,
     "metadata": {},
     "output_type": "execute_result"
    },
    {
     "data": {
      "image/png": "[encoded data removed]",
      "text/plain": [
       "<Figure size 432x288 with 1 Axes>"
      ]
     },
     "metadata": {
      "needs_background": "light"
     },
     "output_type": "display_data"
    }
   ],
   "source": [
    "tree.plot_tree(dltIris.fit(iris.data,iris.target))"
   ]
  },
  {
   "cell_type": "code",
   "execution_count": 57,
   "metadata": {},
   "outputs": [],
   "source": [
    "id3Iris = Id3Estimator(prune = True)\n",
    "id3IrisFitted = id3Iris.fit(X, Y)\n",
    "r2 = export_text(id3IrisFitted.tree_, feature_names=iris['feature_names'])"
   ]
  },
  {
   "cell_type": "code",
   "execution_count": 58,
   "metadata": {},
   "outputs": [
    {
     "name": "stdout",
     "output_type": "stream",
     "text": [
      "\n",
      "petal length (cm) <=2.60: 0 (36) \n",
      "petal length (cm) >2.60\n",
      "|   petal width (cm) <=1.75: 1 (35/3) \n",
      "|   petal width (cm) >1.75\n",
      "|   |   sepal length (cm) <=6.00\n",
      "|   |   |   sepal width (cm) <=3.10: 2 (4) \n",
      "|   |   |   sepal width (cm) >3.10: 1 (1) \n",
      "|   |   sepal length (cm) >6.00: 2 (26) \n",
      "\n"
     ]
    }
   ],
   "source": [
    "print(r2)"
   ]
  },
  {
   "cell_type": "markdown",
   "metadata": {},
   "source": [
    "## Data Tennis"
   ]
  },
  {
   "cell_type": "code",
   "execution_count": 20,
   "metadata": {},
   "outputs": [],
   "source": [
    "dataTennis = pd.read_csv('tennis.csv')"
   ]
  },
  {
   "cell_type": "code",
   "execution_count": 21,
   "metadata": {},
   "outputs": [
    {
     "data": {
      "text/html": [
       "<div>\n",
       "<style scoped>\n",
       "    .dataframe tbody tr th:only-of-type {\n",
       "        vertical-align: middle;\n",
       "    }\n",
       "\n",
       "    .dataframe tbody tr th {\n",
       "        vertical-align: top;\n",
       "    }\n",
       "\n",
       "    .dataframe thead th {\n",
       "        text-align: right;\n",
       "    }\n",
       "</style>\n",
       "<table border=\"1\" class=\"dataframe\">\n",
       "  <thead>\n",
       "    <tr style=\"text-align: right;\">\n",
       "      <th></th>\n",
       "      <th>outlook</th>\n",
       "      <th>temp</th>\n",
       "      <th>humidity</th>\n",
       "      <th>windy</th>\n",
       "      <th>play</th>\n",
       "    </tr>\n",
       "  </thead>\n",
       "  <tbody>\n",
       "    <tr>\n",
       "      <th>0</th>\n",
       "      <td>sunny</td>\n",
       "      <td>hot</td>\n",
       "      <td>high</td>\n",
       "      <td>False</td>\n",
       "      <td>no</td>\n",
       "    </tr>\n",
       "    <tr>\n",
       "      <th>1</th>\n",
       "      <td>sunny</td>\n",
       "      <td>hot</td>\n",
       "      <td>high</td>\n",
       "      <td>True</td>\n",
       "      <td>no</td>\n",
       "    </tr>\n",
       "    <tr>\n",
       "      <th>2</th>\n",
       "      <td>overcast</td>\n",
       "      <td>hot</td>\n",
       "      <td>high</td>\n",
       "      <td>False</td>\n",
       "      <td>yes</td>\n",
       "    </tr>\n",
       "    <tr>\n",
       "      <th>3</th>\n",
       "      <td>rainy</td>\n",
       "      <td>mild</td>\n",
       "      <td>high</td>\n",
       "      <td>False</td>\n",
       "      <td>yes</td>\n",
       "    </tr>\n",
       "    <tr>\n",
       "      <th>4</th>\n",
       "      <td>rainy</td>\n",
       "      <td>cool</td>\n",
       "      <td>normal</td>\n",
       "      <td>False</td>\n",
       "      <td>yes</td>\n",
       "    </tr>\n",
       "    <tr>\n",
       "      <th>5</th>\n",
       "      <td>rainy</td>\n",
       "      <td>cool</td>\n",
       "      <td>normal</td>\n",
       "      <td>True</td>\n",
       "      <td>no</td>\n",
       "    </tr>\n",
       "    <tr>\n",
       "      <th>6</th>\n",
       "      <td>overcast</td>\n",
       "      <td>cool</td>\n",
       "      <td>normal</td>\n",
       "      <td>True</td>\n",
       "      <td>yes</td>\n",
       "    </tr>\n",
       "    <tr>\n",
       "      <th>7</th>\n",
       "      <td>sunny</td>\n",
       "      <td>mild</td>\n",
       "      <td>high</td>\n",
       "      <td>False</td>\n",
       "      <td>no</td>\n",
       "    </tr>\n",
       "    <tr>\n",
       "      <th>8</th>\n",
       "      <td>sunny</td>\n",
       "      <td>cool</td>\n",
       "      <td>normal</td>\n",
       "      <td>False</td>\n",
       "      <td>yes</td>\n",
       "    </tr>\n",
       "    <tr>\n",
       "      <th>9</th>\n",
       "      <td>rainy</td>\n",
       "      <td>mild</td>\n",
       "      <td>normal</td>\n",
       "      <td>False</td>\n",
       "      <td>yes</td>\n",
       "    </tr>\n",
       "    <tr>\n",
       "      <th>10</th>\n",
       "      <td>sunny</td>\n",
       "      <td>mild</td>\n",
       "      <td>normal</td>\n",
       "      <td>True</td>\n",
       "      <td>yes</td>\n",
       "    </tr>\n",
       "    <tr>\n",
       "      <th>11</th>\n",
       "      <td>overcast</td>\n",
       "      <td>mild</td>\n",
       "      <td>high</td>\n",
       "      <td>True</td>\n",
       "      <td>yes</td>\n",
       "    </tr>\n",
       "    <tr>\n",
       "      <th>12</th>\n",
       "      <td>overcast</td>\n",
       "      <td>hot</td>\n",
       "      <td>normal</td>\n",
       "      <td>False</td>\n",
       "      <td>yes</td>\n",
       "    </tr>\n",
       "    <tr>\n",
       "      <th>13</th>\n",
       "      <td>rainy</td>\n",
       "      <td>mild</td>\n",
       "      <td>high</td>\n",
       "      <td>True</td>\n",
       "      <td>no</td>\n",
       "    </tr>\n",
       "  </tbody>\n",
       "</table>\n",
       "</div>"
      ],
      "text/plain": [
       "     outlook  temp humidity  windy play\n",
       "0      sunny   hot     high  False   no\n",
       "1      sunny   hot     high   True   no\n",
       "2   overcast   hot     high  False  yes\n",
       "3      rainy  mild     high  False  yes\n",
       "4      rainy  cool   normal  False  yes\n",
       "5      rainy  cool   normal   True   no\n",
       "6   overcast  cool   normal   True  yes\n",
       "7      sunny  mild     high  False   no\n",
       "8      sunny  cool   normal  False  yes\n",
       "9      rainy  mild   normal  False  yes\n",
       "10     sunny  mild   normal   True  yes\n",
       "11  overcast  mild     high   True  yes\n",
       "12  overcast   hot   normal  False  yes\n",
       "13     rainy  mild     high   True   no"
      ]
     },
     "execution_count": 21,
     "metadata": {},
     "output_type": "execute_result"
    }
   ],
   "source": [
    "dataTennis"
   ]
  },
  {
   "cell_type": "code",
   "execution_count": 22,
   "metadata": {
    "scrolled": false
   },
   "outputs": [],
   "source": [
    "features = ['outlook', 'temp', 'humidity', 'windy', 'play']\n",
    "\n",
    "le = preprocessing.LabelEncoder()\n",
    "\n",
    "for f in features:\n",
    "    dataTennis[f] = le.fit_transform(dataTennis[f])"
   ]
  },
  {
   "cell_type": "code",
   "execution_count": 23,
   "metadata": {},
   "outputs": [],
   "source": [
    "data = dataTennis.drop(columns=['play'])"
   ]
  },
  {
   "cell_type": "code",
   "execution_count": 24,
   "metadata": {},
   "outputs": [],
   "source": [
    "target = dataTennis['play']"
   ]
  },
  {
   "cell_type": "code",
   "execution_count": 25,
   "metadata": {},
   "outputs": [],
   "source": [
    "dltTennis = tree.DecisionTreeClassifier()\n",
    "dltTennisFitted = dltTennis.fit(data, target)\n",
    "r3 = tree.export_text(dltTennisFitted, feature_names=features[0:4])"
   ]
  },
  {
   "cell_type": "code",
   "execution_count": 26,
   "metadata": {},
   "outputs": [
    {
     "name": "stdout",
     "output_type": "stream",
     "text": [
      "|--- outlook <= 0.50\n",
      "|   |--- class: 1\n",
      "|--- outlook >  0.50\n",
      "|   |--- humidity <= 0.50\n",
      "|   |   |--- outlook <= 1.50\n",
      "|   |   |   |--- windy <= 0.50\n",
      "|   |   |   |   |--- class: 1\n",
      "|   |   |   |--- windy >  0.50\n",
      "|   |   |   |   |--- class: 0\n",
      "|   |   |--- outlook >  1.50\n",
      "|   |   |   |--- class: 0\n",
      "|   |--- humidity >  0.50\n",
      "|   |   |--- windy <= 0.50\n",
      "|   |   |   |--- class: 1\n",
      "|   |   |--- windy >  0.50\n",
      "|   |   |   |--- outlook <= 1.50\n",
      "|   |   |   |   |--- class: 0\n",
      "|   |   |   |--- outlook >  1.50\n",
      "|   |   |   |   |--- class: 1\n",
      "\n"
     ]
    }
   ],
   "source": [
    "print(r3)"
   ]
  },
  {
   "cell_type": "code",
   "execution_count": 27,
   "metadata": {},
   "outputs": [],
   "source": [
    "id3Tennis = Id3Estimator()\n",
    "id3TennisFitted = id3Tennis.fit(data, target)\n",
    "r4 = export_text(id3Tennis.tree_, feature_names=features[0:4])"
   ]
  },
  {
   "cell_type": "code",
   "execution_count": 28,
   "metadata": {},
   "outputs": [
    {
     "name": "stdout",
     "output_type": "stream",
     "text": [
      "\n",
      "outlook <=0.50: 1 (4) \n",
      "outlook >0.50\n",
      "|   humidity <=0.50\n",
      "|   |   temp <=1.50: 0 (2) \n",
      "|   |   temp >1.50\n",
      "|   |   |   windy <=0.50: 0 (1/1) \n",
      "|   |   |   windy >0.50: 0 (1) \n",
      "|   humidity >0.50\n",
      "|   |   windy <=0.50: 1 (3) \n",
      "|   |   windy >0.50\n",
      "|   |   |   temp <=1.00: 0 (1) \n",
      "|   |   |   temp >1.00: 1 (1) \n",
      "\n"
     ]
    }
   ],
   "source": [
    "print(r4)"
   ]
  },
  {
   "cell_type": "markdown",
   "metadata": {},
   "source": [
    "# Perbandingan algoritma DecisionTreeClassifier, Id3Estimator dan hal 56 buku Tom Mitchell"
   ]
  },
  {
   "cell_type": "markdown",
   "metadata": {},
   "source": [
    "## Penentuan atribut terbaik\n",
    "\n",
    "Pada buku Tom Mitchell, penentuan atribut dilakukan secara greedy yaitu mencari nilai information gain terbesar untuk setiap atribut yang ada. Information gain sendiri adalah angka yang menghitung seberapa baik sebuah atribut memisahkan training data ke dalam kelas yang menjadi target. Information gain ini didapat dari mengurangi nilai entropi dari training data sekarang terhadap entropi masing-masing value dari atribut yang sedang dihitung.\n",
    "Library Id3estimator menggunakan pembangunan Decision Tree Learning dengan pendekatan ID3, sedangkan library DecisionTreeClassifier menggunakan pendekatan CART (Classification and Regression Tree). Kedua library ini sama-sama melakukan splitting trees ketika membangun decision tree dengan memilih feature yang menghasilkan information gain terbesar secara greedy. \n",
    "\n",
    "Perbedaannya, algoritma pada Id3estimator menghitung information gain dengan melihat perbedaan entropi seperti pada buku Tom Mitchell, sementara algoritma CART pada DecisionTreeClassifier menghitung information gain dengan menggunakan Gini Index. Entropi dan Gini Index sama-sama menghitung impurity dari data, bedanya Gini Index melakukan perhitungan secara kuadratik, sedangkan Entropi melakukan perhitungan secara logaritmik."
   ]
  },
  {
   "cell_type": "markdown",
   "metadata": {},
   "source": [
    "## Penanganan label dari cabang setiap nilai atribut\n",
    "\n",
    "Untuk atribut yang bersifat kategorikal, maka label dari cabang tersebut berupa nilai yang ada pada kategori tersebut. Sedangkan untuk atribut yang bersifat angka atau continuous, maka algoritma tersebut akan mencari terlebih dahulu pivot dari atribut tersebut dan membagi data menjadi dua berdasarkan pivot tersebut, yaitu ke kategori data yang memiliki nilai pivot lebih kecil atau ke data yang memiliki nilai pivot yang lebih besar. Konsep ini berlaku untuk algoritma pada buku Tom Mitchell, library ID3 dan juga library Decision Tree Learning."
   ]
  },
  {
   "cell_type": "markdown",
   "metadata": {},
   "source": [
    "## Penentuan label jika examples kosong di cabang tersebut\n",
    "\n",
    "Pada buku Tom Mitchell terdapat kesamaan dengan library DecisionTreeClassifier dan juga ID3Estimator dalam penentuan label dengan examples kosong pada cabang tertentu. Jika terdapat examples yang kosong di suatu cabang maka akan dibentuk sebuah leaf node pada decision tree yang berisi most common value atau value yang paling sering muncul pada target atribut dari examples yang ada."
   ]
  },
  {
   "cell_type": "markdown",
   "metadata": {},
   "source": [
    "## Penanganan atribut kontinu\n",
    "\n",
    "Algoritma ID3 pada buku Tom Mitchell, library ID3Estimator, dan library Sci-kit learn sama-sama membagi atribut kontinu menjadi bagian-bagian sehingga membentuk atribut yang diskrit. Ketiganya melakukan sorting terhadap atribut kontinu terlebih dahulu, lalu mencari titik pivot dari hasil sorting. Titik pivot digunakan untuk memisahkan  tree dengan membuat dua cabang, yaitu cabang lebih besar sama dengan titik pivot dan cabang kurang dari titik pivot. Jika terdapat lebih dari satu titik pivot, maka akan dihitung information gain dari masing-masing pivot kemudian diambil titik pivot dengan information gain terbesar."
   ]
  },
  {
   "cell_type": "markdown",
   "metadata": {},
   "source": [
    "## Penanganan atribut dengan missing values\n",
    "\n",
    "Pada buku Tom Mitchell, atribut yang memiliki missing values akan diberikan sebuah value yang merupakan modus (most common value) dari kolom feature yang sama untuk menggantikannya atau juga modus dari kolom feature yang memiliki nilai target yang sama atau dengan mengisikan nilai probabilitas kemunculan setiap kemungkinan nilai ke node yang dibawahnya yang kemudian akan berguna untuk perhitungan gain, sedangkan pada library ID3Estimator dan DecisionTreeClassifier, apabila terdapat atribut dengan missing value maka akan dikembalikan pesan error dengan kata lain kedua library ini tidak menghandle adanya missing value."
   ]
  },
  {
   "cell_type": "markdown",
   "metadata": {},
   "source": [
    "## Pruning dan parameter confidence\n",
    "\n",
    "Pada buku Tom Mitchell, terdapat dua cara pruning yaitu dengan menggunakan pendekatan ID3 dan C4.5. Pada pendekatan ID3, setiap node pada tree akan menjadi kandidat untuk dipruning. Pruning dilakukan dengan mengubah subtree yang berakar pada node tersebut menjadi sebuah leaf node yang memberikan most common classification (nilai modus kelas) dari data training yang bersesuaian dengan node tersebut. Pada pendekatan ID3 ini dataset akan dibagi menjadi 3 yaitu data training, data validasi untuk pruning, dan data tes. Jika proses pruning ini meningkatkan akurasi pada data validasi, maka akan dilakukan pruning. Namun jika akurasi menurun, maka pruning pada node tersebut tidak akan dilakukan. \n",
    "\n",
    "Pada buku Tom Mitchell untuk pendekatan C4.5 dilakukan dengan pertama-tama membuat terlebih dahulu decision tree yang utuh dari training set. Kemudian tree ini akan dibuat menjadi himpunan rule yang bersesuaian dengan setiap path dari root node hingga leaf node. Prune dilakukan pada setiap rule dengan menghilangkan prekondisi (syarat) yang meningkatkan akurasi pohon secara keseluruhan.\n",
    "\n",
    "Pada library ID3Estimator, secara default pruning tidak dilakukan. Namun jika dipilih, maka pertama-tama library ID3Estimator akan membagi dataset menjadi training data dan data test. Kemudian akan dibangun decision tree yang utuh berdasarkan training data. Kemudian untuk setiap node pada tree yang sudah terbentuk, akan dilakukan pruning dengan menghilangkan subtree yang berakar pada node tersebut. Hal ini serupa seperti pendekatan ID3 pada buku Tom Mitchell. Bedanya, penentuan pruning atau tidaknya suatu node ditentukan dari tingkat error rate dari tree sebelum dan sesudah pruning. Jika pruning mengakibatkan error rate menurun, maka pruning pada node tersebut akan dilakukan. \n",
    "\n",
    "Pada library DecisionTreeClassifier, digunakan algoritma minimal CCP (Cost Complexity Pruning). Pada algoritma ini terdapat parameter alpha yang disebut sebagai complexity parameter. Algoritma CCP mencari sub-pohon dari pohon T yang meminimalkan cost-complexity measure. Pada node tersebut akan dicari link terlemah untuk dipruning. Link terlemah ini didapat dari nilai non-leaf node dengan nilai alpha efektif paling kecil.\n",
    "\n",
    "Confidence level pada algoritma digunakan untuk mengkalkulasi pessimistic error pada pruning yang dilakukan. Confidence level pada algoritma juga digunakan sebagai pengukuran performansi model yang dihasilkan atau akurasi dari rule yang dibentuk. Pada buku Tom Mitchell, akurasi rule digunakan untuk pengukuran akurasi pada training set dan kemudian dikurangi dengan 1.96 kali standar deviasi."
   ]
  }
 ],
 "metadata": {
  "kernelspec": {
   "display_name": "Python 3",
   "language": "python",
   "name": "python3"
  },
  "language_info": {
   "codemirror_mode": {
    "name": "ipython",
    "version": 3
   },
   "file_extension": ".py",
   "mimetype": "text/x-python",
   "name": "python",
   "nbconvert_exporter": "python",
   "pygments_lexer": "ipython3",
   "version": "3.7.3"
  }
 },
 "nbformat": 4,
 "nbformat_minor": 2
}
